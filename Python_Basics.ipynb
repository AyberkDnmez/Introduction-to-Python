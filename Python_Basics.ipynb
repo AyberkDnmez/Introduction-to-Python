{
  "nbformat": 4,
  "nbformat_minor": 0,
  "metadata": {
    "colab": {
      "provenance": [],
      "authorship_tag": "ABX9TyMsGqycspagSn99lsom5RAs",
      "include_colab_link": true
    },
    "kernelspec": {
      "name": "python3",
      "display_name": "Python 3"
    },
    "language_info": {
      "name": "python"
    }
  },
  "cells": [
    {
      "cell_type": "markdown",
      "metadata": {
        "id": "view-in-github",
        "colab_type": "text"
      },
      "source": [
        "<a href=\"https://colab.research.google.com/github/AyberkDnmez/Introduction-to-Python/blob/main/Python_Basics.ipynb\" target=\"_parent\"><img src=\"https://colab.research.google.com/assets/colab-badge.svg\" alt=\"Open In Colab\"/></a>"
      ]
    },
    {
      "cell_type": "code",
      "execution_count": 7,
      "metadata": {
        "id": "sU0ZdvGc0c_C",
        "colab": {
          "base_uri": "https://localhost:8080/"
        },
        "outputId": "c3c2828d-8406-42f5-9ff4-43123efebe5d"
      },
      "outputs": [
        {
          "output_type": "stream",
          "name": "stdout",
          "text": [
            "8\n",
            "6\n",
            "24\n",
            "4.0\n",
            "2\n",
            "49\n"
          ]
        }
      ],
      "source": [
        "#Python as a calculator\n",
        "#Addition\n",
        "print(5 + 3)\n",
        "#Subtraction\n",
        "print(8 - 2)\n",
        "#Multiplication\n",
        "print(4 * 6)\n",
        "#Division\n",
        "print(12 / 3)\n",
        "#Modulo \n",
        "print(26 % 8)\n",
        "#Exponentiation\n",
        "print(7 ** 2)"
      ]
    },
    {
      "cell_type": "code",
      "source": [
        "#Variables and Types\n",
        "#Python Variable is containers which store values.\n",
        "#They make code reproducible\n",
        "#Example\n",
        "height = 1.79\n",
        "weight = 68.7\n",
        "bmi = weight / height ** 2\n",
        "print(bmi)\n",
        "#You can check out the type of a value with the type function.\n",
        "type(bmi)\n",
        "#Types : float, integer, strings, booleans\n",
        "#In programming, data type is an important concept.\n",
        "#Variables can store data of different types, and different types can do different things.\n",
        "#String Example\n",
        "x = \"body mass function\"\n",
        "#Boolean Example\n",
        "a = True\n",
        "#Integer Example\n",
        "d = 24\n",
        "#Float Example\n",
        "c = 34.27\n",
        "#ATTENTION : The plus operator behaves differently for differenrt data types.\n",
        "print(2 + 3)\n",
        "print(\"ab\" + \"cd\")\n",
        "#General Principle : How the code behaves depends on the types you're working with."
      ],
      "metadata": {
        "colab": {
          "base_uri": "https://localhost:8080/"
        },
        "id": "Pq-z-mFWbBhL",
        "outputId": "d229bf8a-937b-4a40-c594-d818c1972b03"
      },
      "execution_count": 21,
      "outputs": [
        {
          "output_type": "stream",
          "name": "stdout",
          "text": [
            "21.44127836209856\n",
            "5\n",
            "abcd\n"
          ]
        }
      ]
    },
    {
      "cell_type": "code",
      "source": [
        "#Variable Assignment\n",
        "x = 5\n",
        "#In Python = means assignment, it does not test equality.\n"
      ],
      "metadata": {
        "id": "FQYE3fBWi7o4"
      },
      "execution_count": null,
      "outputs": []
    },
    {
      "cell_type": "code",
      "source": [
        "#Calculations with Variables\n",
        "#The formula to calculate how much money you have after 7 years of investing $100 each year with 10% return would look something like this:\n",
        "savings = 100\n",
        "growth_multiplier = 1.1\n",
        "result = savings * growth_multiplier ** 7\n",
        "print(result)"
      ],
      "metadata": {
        "colab": {
          "base_uri": "https://localhost:8080/"
        },
        "id": "0fZkJvB7jZPP",
        "outputId": "997e99e1-7f1c-4e04-c69a-c52765461130"
      },
      "execution_count": 23,
      "outputs": [
        {
          "output_type": "stream",
          "name": "stdout",
          "text": [
            "194.87171000000012\n"
          ]
        }
      ]
    },
    {
      "cell_type": "code",
      "source": [
        "#Operations with Other Types\n",
        "#When you sum two strings, for example, you'll get different behavior than when you sum two integers or two booleans.\n",
        "savings = 100\n",
        "growth_multiplier = 1.1\n",
        "desc = \"compound interest\"\n",
        "year1 = savings * growth_multiplier\n",
        "print(type(year1))\n",
        "doubledesc = \"desc\" + \"desc\"\n",
        "print(doubledesc)"
      ],
      "metadata": {
        "colab": {
          "base_uri": "https://localhost:8080/"
        },
        "id": "1tGnRW3llK4m",
        "outputId": "84bc8fec-3607-43d8-d016-09b6558eb1d9"
      },
      "execution_count": 24,
      "outputs": [
        {
          "output_type": "stream",
          "name": "stdout",
          "text": [
            "<class 'float'>\n",
            "descdesc\n"
          ]
        }
      ]
    },
    {
      "cell_type": "code",
      "source": [
        "#Type Conversion\n",
        "#Using the + operator to paste together two strings can be very useful in building custom messages.\n",
        "#str(savings), for example, will convert the integer savings to a string.\n",
        "#Similar functions such as int(), float() and bool() will help you convert Python values into any type.\n",
        "#Example\n",
        "savings = 100\n",
        "result = 100 * 1.10 ** 7 \n",
        "print(\"I started with $\" + str(savings) + \"and now have $\" + str(result) + \". Awesome !\")\n",
        "#Definition of pi_string\n",
        "pi_string = \"3.1415926\"\n",
        "#Convert pi_string into float: pi_float\n",
        "pi_float = float(pi_string)\n",
        "type(pi_float)"
      ],
      "metadata": {
        "colab": {
          "base_uri": "https://localhost:8080/"
        },
        "id": "2Pqzxg9WmPeK",
        "outputId": "7c927ab3-c155-45ba-bbc0-87551efcbd9a"
      },
      "execution_count": 27,
      "outputs": [
        {
          "output_type": "stream",
          "name": "stdout",
          "text": [
            "I started with $100and now have $194.87171000000012. Awesome !\n"
          ]
        },
        {
          "output_type": "execute_result",
          "data": {
            "text/plain": [
              "float"
            ]
          },
          "metadata": {},
          "execution_count": 27
        }
      ]
    }
  ]
}