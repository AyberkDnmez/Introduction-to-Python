{
  "nbformat": 4,
  "nbformat_minor": 0,
  "metadata": {
    "colab": {
      "provenance": [],
      "authorship_tag": "ABX9TyP/ORW+5P0Wuhp4ehv739lk",
      "include_colab_link": true
    },
    "kernelspec": {
      "name": "python3",
      "display_name": "Python 3"
    },
    "language_info": {
      "name": "python"
    }
  },
  "cells": [
    {
      "cell_type": "markdown",
      "metadata": {
        "id": "view-in-github",
        "colab_type": "text"
      },
      "source": [
        "<a href=\"https://colab.research.google.com/github/AyberkDnmez/Introduction-to-Python/blob/main/Python_Lists.ipynb\" target=\"_parent\"><img src=\"https://colab.research.google.com/assets/colab-badge.svg\" alt=\"Open In Colab\"/></a>"
      ]
    },
    {
      "cell_type": "code",
      "execution_count": null,
      "metadata": {
        "colab": {
          "base_uri": "https://localhost:8080/"
        },
        "id": "vYDCG1pXwzjZ",
        "outputId": "33c4aad5-6e72-40a0-f848-ce14beb941d3"
      },
      "outputs": [
        {
          "output_type": "stream",
          "name": "stdout",
          "text": [
            "[11.25, 18.0]\n",
            "['hallway', 11.25, 'kit', 18.0]\n"
          ]
        }
      ],
      "source": [
        "#You can build lists with square brackets.\n",
        "#Of course,this data structure can be referenced with a variable. \n",
        "#Example\n",
        "fam = [1.73, 1.69]\n",
        "#A list is a way to give a single name to collection of values.\n",
        "#These values,or elements can have any type even lists.\n",
        "#It is perfectly possible for a list contain different types as well.\n",
        "fam = [1.73, \"liz\"]\n",
        "#Lists can also contain themselves. \n",
        "fam = [[1.73, \"liz\"], [1.89, \"Ayberk\"]]\n",
        "#List = Compound data type\n"
      ]
    },
    {
      "cell_type": "code",
      "source": [
        "#Create a list\n",
        "hall = 11.25\n",
        "kit = 18.0 \n",
        "areas = [hall, kit]\n",
        "print(areas)"
      ],
      "metadata": {
        "id": "qUOCVni3N707"
      },
      "execution_count": null,
      "outputs": []
    },
    {
      "cell_type": "code",
      "source": [
        "#Create list with different data types\n",
        "areas = [\"hallway\", 11.25, \"kit\", 18.0]\n",
        "print(areas)"
      ],
      "metadata": {
        "id": "7T33Mm88N_TR"
      },
      "execution_count": null,
      "outputs": []
    },
    {
      "cell_type": "code",
      "source": [
        "#List of lists\n",
        "hall = 11.25 \n",
        "kit = 18.0 \n",
        "areas = [[\"hallway\", 11.25], [\"kit\", 18.0]]\n",
        "print(areas)\n",
        "print(type(areas))\n"
      ],
      "metadata": {
        "colab": {
          "base_uri": "https://localhost:8080/"
        },
        "id": "a6bAP-keODkx",
        "outputId": "886bc85f-ba4d-4776-9de7-1c5efeb1b300"
      },
      "execution_count": null,
      "outputs": [
        {
          "output_type": "stream",
          "name": "stdout",
          "text": [
            "[['hallway', 11.25], ['kit', 18.0]]\n",
            "<class 'list'>\n"
          ]
        }
      ]
    },
    {
      "cell_type": "code",
      "source": [
        "##Subsetting Lists\n",
        "#To access information in the list python uses index. \n",
        "#Index starts with zero --> Zero indexing\n",
        "#You can also count backwards, using negative indexes. This is useful if you want to get some elements at the end of your list. \n",
        "#List slicing --> Allows select multiple items from a list, thus creating a new list. You can do this by specifying a range using a colon.\n",
        "#Index Syntax : [start : end] Start is inclusive and end is exclusive. \n",
        "#If you leave out the index where slice should begin, you' re telling to Python to start the slice from index 0. \n",
        "#If you leave out the index where slice should end, you include all elements up to and including the last element in the list."
      ],
      "metadata": {
        "id": "6VzGalnAz99e"
      },
      "execution_count": null,
      "outputs": []
    },
    {
      "cell_type": "code",
      "source": [
        "##Subset and Conquer \n",
        "x = [\"a\",\"b\",\"c\",\"d\"]\n",
        "x[1]\n",
        "#Same result\n",
        "x[-3]"
      ],
      "metadata": {
        "colab": {
          "base_uri": "https://localhost:8080/",
          "height": 35
        },
        "id": "1z0NPVAx2KVG",
        "outputId": "2de4aaa0-81ab-4067-f78a-bfc0f71c303c"
      },
      "execution_count": null,
      "outputs": [
        {
          "output_type": "execute_result",
          "data": {
            "text/plain": [
              "'b'"
            ],
            "application/vnd.google.colaboratory.intrinsic+json": {
              "type": "string"
            }
          },
          "metadata": {},
          "execution_count": 7
        }
      ]
    },
    {
      "cell_type": "code",
      "source": [
        "#Subset and Calculate \n",
        "#After you've extracted values from a list, you can use them to perform additional calculations.\n",
        "x = [\"a\",\"b\",\"c\",\"d\"]\n",
        "print(x[1] + x[2])\n",
        "\n",
        "areas = [\"hallway\", 11.25, \"kitchen\", 18.0, \"living room\", 20.0, \"bedroom\", 10.75, \"bathroom\", 9.50]\n",
        "eat_sleep_area = areas[3] + areas[-3]\n",
        "print(eat_sleep_area)"
      ],
      "metadata": {
        "id": "SfgMq4Ke24Lk",
        "outputId": "97d47ab7-6e8b-4f38-9ae6-6866ca825e33",
        "colab": {
          "base_uri": "https://localhost:8080/"
        }
      },
      "execution_count": 2,
      "outputs": [
        {
          "output_type": "stream",
          "name": "stdout",
          "text": [
            "bc\n",
            "28.75\n"
          ]
        }
      ]
    },
    {
      "cell_type": "code",
      "source": [
        "#Slicing and Dicing\n",
        "#It's also possible to slice your list, which means selecting multiple elements from your list. Use the following syntax.\n",
        "#mylist[start:end]\n",
        "#The start index will be included, while the end index is not.\n",
        "x = [\"a\",\"b\",\"c\",\"d\"]\n",
        "x[1:3]\n",
        "\n",
        "areas = [\"hallway\", 11.25, \"kitchen\", 18.0, \"living room\", 20.0, \"bedroom\", 10.75, \"bathroom\", 9.50]\n",
        "downstairs = areas[:6]\n",
        "upstairs = areas[6:]\n",
        "print(downstairs)\n",
        "print(upstairs)\n",
        "#If you don't specify the begin index, Python figures out that you want to start your slice at the beginning of your list. \n",
        "#If you don't specify the end index, the slice will go all the way to the last element of your list. \n",
        "x = [\"a\", \"b\", \"c\", \"d\"]\n",
        "x[:2]\n",
        "x[2:]\n",
        "x[:]"
      ],
      "metadata": {
        "id": "itQN1Wsqx3Io",
        "outputId": "40ad379a-df3e-401b-adfc-1e943313f752",
        "colab": {
          "base_uri": "https://localhost:8080/"
        }
      },
      "execution_count": 6,
      "outputs": [
        {
          "output_type": "stream",
          "name": "stdout",
          "text": [
            "['hallway', 11.25, 'kitchen', 18.0, 'living room', 20.0]\n",
            "['bedroom', 10.75, 'bathroom', 9.5]\n"
          ]
        },
        {
          "output_type": "execute_result",
          "data": {
            "text/plain": [
              "['a', 'b', 'c', 'd']"
            ]
          },
          "metadata": {},
          "execution_count": 6
        }
      ]
    },
    {
      "cell_type": "code",
      "source": [
        "#Subsetting Lists of Lists \n",
        "x = [[\"a\",\"b\",\"c\"],[\"d\",\"e\",\"f\"],[\"g\",\"h\",\"i\"]]\n",
        "x[2][0]\n",
        "x[2][:2]\n"
      ],
      "metadata": {
        "id": "iRtLjIff9D9n",
        "outputId": "b0b985ab-317e-481a-9d8d-72f06e2b0c4d",
        "colab": {
          "base_uri": "https://localhost:8080/"
        }
      },
      "execution_count": 5,
      "outputs": [
        {
          "output_type": "execute_result",
          "data": {
            "text/plain": [
              "['g', 'h']"
            ]
          },
          "metadata": {},
          "execution_count": 5
        }
      ]
    },
    {
      "cell_type": "code",
      "source": [
        "#Manipulating Lists\n",
        "#Lists Manipulation : Change list elements, add list elements, remove list elements\n",
        "#Changing List Elements\n",
        "fam = [\"liz\", 1.73, \"emma\", 1.68, \"mom\", 1.71, \"dad\", 1.89]\n",
        "fam\n",
        "fam[7] = 1.86\n",
        "fam\n",
        "#You can even change an entire list slice at once.\n",
        "fam[0:2] = [\"lisa\", 1.74]\n",
        "fam\n",
        "#Adding and removing elements\n",
        "#If you use plus sign with two lists, Python simply pastes together their contents in a single list.\n",
        "fam + [\"me\", 1.79]\n",
        "del(fam[2]) #Deleting emma\n",
        "fam\n",
        "#Because you've removed an index, all elements that came after \"emma\" moved over by one index.\n",
        "#Behind the Scenes\n",
        "x = [\"a\",\"b\",\"c\"] #This means that x does not actually contain all the list elements, it rather contains a reference to the list.\n",
        "#For basic operations, the difference is not that important, but it becomes more so when you start copying lists. Here is an example\n",
        "x = [\"a\", \"b\", \"c\"]\n",
        "y = x #Let's now change the element with index 1 in the list y, like this.\n",
        "y[1] = \"z\"\n",
        "print(y)\n",
        "print(x) #The funky thing is that if you now check out x again, also here the second element was changed.\n",
        "#That's because when you copied x to y with the equal sign, you copied reference to the list, not the actual values themselves.\n",
        "#Both x and y to this list, so the update is visible from both variables. \n",
        "#If you want to create a list y that points to a new list in the memory with the same values, you can use the list function, or use slicing to select all list elements explicitly.\n",
        "x = [\"a\", \"b\", \"c\"]\n",
        "y = list(x)\n",
        "#or \n",
        "y = x[:]\n",
        "#If you now make a change list y, x is not affected."
      ],
      "metadata": {
        "id": "UZKn5le0PykF",
        "outputId": "562853a8-bb3b-4cb8-d3db-0e1f4d0a4397",
        "colab": {
          "base_uri": "https://localhost:8080/"
        }
      },
      "execution_count": 17,
      "outputs": [
        {
          "output_type": "stream",
          "name": "stdout",
          "text": [
            "['a', 'z', 'c']\n",
            "['a', 'z', 'c']\n"
          ]
        }
      ]
    },
    {
      "cell_type": "code",
      "source": [
        "#Replace List Elements \n",
        "#Replacing list elements is pretty easy. Simply subset the list and assign new values to the subset. \n",
        "#You can select single elements or you can change entire list slices at once.\n",
        "areas = [\"hallway\", 11.25, \"kitchen\", 18.0, \"living room\", 20.0, \"bedroom\", 10.75, \"bathroom\", 9.50]\n",
        "areas[-1] = 10.50\n",
        "areas\n"
      ],
      "metadata": {
        "id": "JpQMV3a5U2_T",
        "outputId": "9e0891db-2cf3-4b8c-95a1-10d0578c2d8a",
        "colab": {
          "base_uri": "https://localhost:8080/"
        }
      },
      "execution_count": 19,
      "outputs": [
        {
          "output_type": "execute_result",
          "data": {
            "text/plain": [
              "['hallway',\n",
              " 11.25,\n",
              " 'kitchen',\n",
              " 18.0,\n",
              " 'living room',\n",
              " 20.0,\n",
              " 'bedroom',\n",
              " 10.75,\n",
              " 'bathroom',\n",
              " 10.5]"
            ]
          },
          "metadata": {},
          "execution_count": 19
        }
      ]
    },
    {
      "cell_type": "code",
      "source": [
        "#Extend a List\n",
        "#If you can change elements in a list, you sure want to be able to add elements to it, right? You can use the + operator.\n",
        "x = [\"a\", \"b\", \"c\", \"d\"]\n",
        "y = x + [\"e\", \"f\"]\n",
        "y"
      ],
      "metadata": {
        "id": "_bPj1bNDV-r4",
        "outputId": "17efb56a-186b-47a7-d8d4-51e36d32c2bc",
        "colab": {
          "base_uri": "https://localhost:8080/"
        }
      },
      "execution_count": 21,
      "outputs": [
        {
          "output_type": "execute_result",
          "data": {
            "text/plain": [
              "['a', 'b', 'c', 'd', 'e', 'f']"
            ]
          },
          "metadata": {},
          "execution_count": 21
        }
      ]
    },
    {
      "cell_type": "code",
      "source": [
        "#Delete List Elements \n",
        "#Finally, you can also remove elements from your list. You can do this with the del statement.\n",
        "#Pay attention here: as soon as you remove an element from a list, the indexes of the elements that come after the deleted element all change.\n",
        "#The ; sign is used to place commands on the same line. The following two code chunks are equivalent:\n",
        "#Same line\n",
        "#command1; command2\n",
        "\n",
        "# Separate lines\n",
        "#command1\n",
        "#command2\n",
        "areas = [\"hallway\", 11.25, \"kitchen\", 18.0,\n",
        "        \"chill zone\", 20.0, \"bedroom\", 10.75,\n",
        "         \"bathroom\", 10.50, \"poolhouse\", 24.5,\n",
        "         \"garage\", 15.45]\n",
        "#del(areas[10]); del(areas[11]) (First deleting 10, after 11) (Be careful ! After deleting 10, index will change.)\n",
        "\n"
      ],
      "metadata": {
        "id": "qfmruwizWnju"
      },
      "execution_count": null,
      "outputs": []
    },
    {
      "cell_type": "code",
      "source": [
        "#Inner Workings of Lists\n",
        "# Create list areas\n",
        "areas = [11.25, 18.0, 20.0, 10.75, 9.50]\n",
        "\n",
        "# Create areas_copy\n",
        "areas_copy = list(areas)\n",
        "\n",
        "# Change areas_copy\n",
        "areas_copy[0] = 5.0\n",
        "\n",
        "# Print areas\n",
        "print(areas)\n"
      ],
      "metadata": {
        "id": "YaLXe4w7XbHu",
        "outputId": "a47802f5-0fb6-4252-afda-f9a73b87d06f",
        "colab": {
          "base_uri": "https://localhost:8080/"
        }
      },
      "execution_count": 22,
      "outputs": [
        {
          "output_type": "stream",
          "name": "stdout",
          "text": [
            "[11.25, 18.0, 20.0, 10.75, 9.5]\n"
          ]
        }
      ]
    }
  ]
}