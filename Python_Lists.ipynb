{
  "nbformat": 4,
  "nbformat_minor": 0,
  "metadata": {
    "colab": {
      "provenance": [],
      "authorship_tag": "ABX9TyPaNMSQZanS2tz6eAE0fSY3",
      "include_colab_link": true
    },
    "kernelspec": {
      "name": "python3",
      "display_name": "Python 3"
    },
    "language_info": {
      "name": "python"
    }
  },
  "cells": [
    {
      "cell_type": "markdown",
      "metadata": {
        "id": "view-in-github",
        "colab_type": "text"
      },
      "source": [
        "<a href=\"https://colab.research.google.com/github/AyberkDnmez/Introduction-to-Python/blob/main/Python_Lists.ipynb\" target=\"_parent\"><img src=\"https://colab.research.google.com/assets/colab-badge.svg\" alt=\"Open In Colab\"/></a>"
      ]
    },
    {
      "cell_type": "code",
      "execution_count": 3,
      "metadata": {
        "colab": {
          "base_uri": "https://localhost:8080/"
        },
        "id": "vYDCG1pXwzjZ",
        "outputId": "33c4aad5-6e72-40a0-f848-ce14beb941d3"
      },
      "outputs": [
        {
          "output_type": "stream",
          "name": "stdout",
          "text": [
            "[11.25, 18.0]\n",
            "['hallway', 11.25, 'kit', 18.0]\n"
          ]
        }
      ],
      "source": [
        "#You can build lists with square brackets.\n",
        "#Of course,this data structure can be referenced with a variable. \n",
        "#Example\n",
        "fam = [1.73, 1.69]\n",
        "#A list is a way to give a single name to collection of values.\n",
        "#These values,or elements can have any type even lists.\n",
        "#It is perfectly possible for a list contain different types as well.\n",
        "fam = [1.73, \"liz\"]\n",
        "#Lists can also contain themselves. \n",
        "fam = [[1.73, \"liz\"], [1.89, \"Ayberk\"]]\n",
        "#List = Compound data type\n"
      ]
    },
    {
      "cell_type": "code",
      "source": [
        "#Create a list\n",
        "hall = 11.25\n",
        "kit = 18.0 \n",
        "areas = [hall, kit]\n",
        "print(areas)"
      ],
      "metadata": {
        "id": "qUOCVni3N707"
      },
      "execution_count": null,
      "outputs": []
    },
    {
      "cell_type": "code",
      "source": [
        "#Create list with different data types\n",
        "areas = [\"hallway\", 11.25, \"kit\", 18.0]\n",
        "print(areas)"
      ],
      "metadata": {
        "id": "7T33Mm88N_TR"
      },
      "execution_count": null,
      "outputs": []
    },
    {
      "cell_type": "code",
      "source": [
        "#List of lists\n",
        "hall = 11.25 \n",
        "kit = 18.0 \n",
        "areas = [[\"hallway\", 11.25], [\"kit\", 18.0]]\n",
        "print(areas)\n",
        "print(type(areas))\n"
      ],
      "metadata": {
        "colab": {
          "base_uri": "https://localhost:8080/"
        },
        "id": "a6bAP-keODkx",
        "outputId": "886bc85f-ba4d-4776-9de7-1c5efeb1b300"
      },
      "execution_count": 4,
      "outputs": [
        {
          "output_type": "stream",
          "name": "stdout",
          "text": [
            "[['hallway', 11.25], ['kit', 18.0]]\n",
            "<class 'list'>\n"
          ]
        }
      ]
    },
    {
      "cell_type": "code",
      "source": [
        "##Subsetting Lists\n",
        "#To access information in the list python uses index. \n",
        "#Index starts with zero --> Zero indexing\n",
        "#You can also count backwards, using negative indexes. This is useful if you want to get some elements at the end of your list. \n",
        "#List slicing --> Allows select multiple items from a list, thus creating a new list. You can do this by specifying a range using a colon.\n",
        "#Index Syntax : [start : end] Start is inclusive and end is exclusive. \n",
        "#If you leave out the index where slice should begin, you' re telling to Python to start the slice from index 0. \n",
        "#If you leave out the index where slice should end, you include all elements up to and including the last element in the list."
      ],
      "metadata": {
        "id": "6VzGalnAz99e"
      },
      "execution_count": null,
      "outputs": []
    },
    {
      "cell_type": "code",
      "source": [
        "##Subset and Conquer \n",
        "x = [\"a\",\"b\",\"c\",\"d\"]\n",
        "x[1]\n",
        "#Same result\n",
        "x[-3]"
      ],
      "metadata": {
        "colab": {
          "base_uri": "https://localhost:8080/",
          "height": 35
        },
        "id": "1z0NPVAx2KVG",
        "outputId": "2de4aaa0-81ab-4067-f78a-bfc0f71c303c"
      },
      "execution_count": 7,
      "outputs": [
        {
          "output_type": "execute_result",
          "data": {
            "text/plain": [
              "'b'"
            ],
            "application/vnd.google.colaboratory.intrinsic+json": {
              "type": "string"
            }
          },
          "metadata": {},
          "execution_count": 7
        }
      ]
    },
    {
      "cell_type": "code",
      "source": [
        "#Subset and Calculate "
      ],
      "metadata": {
        "id": "SfgMq4Ke24Lk"
      },
      "execution_count": null,
      "outputs": []
    }
  ]
}